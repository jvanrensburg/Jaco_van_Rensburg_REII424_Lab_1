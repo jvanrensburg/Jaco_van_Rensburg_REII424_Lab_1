{
 "cells": [
  {
   "cell_type": "code",
   "execution_count": 2,
   "metadata": {},
   "outputs": [],
   "source": [
    "Inputfile = open(\"duplicate.csv\", \"r\")\n",
    "Outputfile = open(\"noduplicate.csv\", \"w\")\n",
    "\n",
    "List_dup = []\n",
    "\n",
    "for line in Inputfile:\n",
    "    if line in List_dup:\n",
    "        continue\n",
    "    else:\n",
    "        Outputfile.write(line)\n",
    "        List_dup.append(line)\n",
    "        \n",
    "Inputfile.close()\n",
    "Outputfile.close()\n"
   ]
  },
  {
   "cell_type": "code",
   "execution_count": null,
   "metadata": {
    "collapsed": true
   },
   "outputs": [],
   "source": []
  }
 ],
 "metadata": {
  "kernelspec": {
   "display_name": "Python 3",
   "language": "python",
   "name": "python3"
  },
  "language_info": {
   "codemirror_mode": {
    "name": "ipython",
    "version": 3
   },
   "file_extension": ".py",
   "mimetype": "text/x-python",
   "name": "python",
   "nbconvert_exporter": "python",
   "pygments_lexer": "ipython3",
   "version": "3.6.1"
  }
 },
 "nbformat": 4,
 "nbformat_minor": 2
}
