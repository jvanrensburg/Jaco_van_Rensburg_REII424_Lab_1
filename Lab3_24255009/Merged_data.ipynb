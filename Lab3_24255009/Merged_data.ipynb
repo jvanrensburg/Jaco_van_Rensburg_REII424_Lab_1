{
 "cells": [
  {
   "cell_type": "code",
   "execution_count": 6,
   "metadata": {},
   "outputs": [
    {
     "name": "stdout",
     "output_type": "stream",
     "text": [
      "['TimeStamp', 'Time Zone\",\"Name\",\"PTID\",\"Load\"', 'Temp', 'DewPoint']\n"
     ]
    }
   ],
   "source": [
    "import pandas as pd\n",
    "a = pd.read_csv(\"LoadData.csv\")\n",
    "b = pd.read_csv(\"WeatherData.csv\")\n",
    "merged = a.merge(b, on=\"TimeStamp\")\n",
    "merged.to_csv(\"merged.csv\", index=False)\n",
    "\n",
    "import csv\n",
    "f2 = open(\"merged.csv\", \"r\")\n",
    "l = csv.reader(f2)\n",
    "m = next(l)\n",
    "print(m)"
   ]
  },
  {
   "cell_type": "code",
   "execution_count": null,
   "metadata": {
    "collapsed": true
   },
   "outputs": [],
   "source": []
  }
 ],
 "metadata": {
  "kernelspec": {
   "display_name": "Python 3",
   "language": "python",
   "name": "python3"
  },
  "language_info": {
   "codemirror_mode": {
    "name": "ipython",
    "version": 3
   },
   "file_extension": ".py",
   "mimetype": "text/x-python",
   "name": "python",
   "nbconvert_exporter": "python",
   "pygments_lexer": "ipython3",
   "version": "3.6.1"
  }
 },
 "nbformat": 4,
 "nbformat_minor": 2
}
